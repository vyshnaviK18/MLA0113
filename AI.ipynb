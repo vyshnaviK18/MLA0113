{
  "nbformat": 4,
  "nbformat_minor": 0,
  "metadata": {
    "colab": {
      "provenance": [],
      "authorship_tag": "ABX9TyPhlZhfVuDLTDTO0dmntChV",
      "include_colab_link": true
    },
    "kernelspec": {
      "name": "python3",
      "display_name": "Python 3"
    },
    "language_info": {
      "name": "python"
    }
  },
  "cells": [
    {
      "cell_type": "markdown",
      "metadata": {
        "id": "view-in-github",
        "colab_type": "text"
      },
      "source": [
        "<a href=\"https://colab.research.google.com/github/vyshnaviK18/MLA0113/blob/main/AI.ipynb\" target=\"_parent\"><img src=\"https://colab.research.google.com/assets/colab-badge.svg\" alt=\"Open In Colab\"/></a>"
      ]
    },
    {
      "cell_type": "markdown",
      "source": [
        "1) Python program to solve 8-Puzzle problem."
      ],
      "metadata": {
        "id": "1apqMLAKT3CO"
      }
    },
    {
      "cell_type": "code",
      "execution_count": 1,
      "metadata": {
        "colab": {
          "base_uri": "https://localhost:8080/"
        },
        "id": "lsxK0EW6VJjc",
        "outputId": "25d4924e-25c3-4ef7-a1e4-a8a435f16716"
      },
      "outputs": [
        {
          "output_type": "stream",
          "name": "stdout",
          "text": [
            "1 2 3\n",
            "5 6 0\n",
            "7 8 4\n",
            "\n",
            "1 2 3\n",
            "5 0 6\n",
            "7 8 4\n",
            "\n",
            "1 2 3\n",
            "5 8 6\n",
            "7 0 4\n",
            "\n",
            "1 2 3\n",
            "5 8 6\n",
            "0 7 4\n",
            "\n"
          ]
        }
      ],
      "source": [
        "import copy\n",
        "from heapq import heappush, heappop\n",
        "\n",
        "n = 3\n",
        "rows, cols = [1, 0, -1, 0], [0, -1, 0, 1]\n",
        "\n",
        "class PriorityQueue:\n",
        "    def __init__(self):\n",
        "        self.heap = []\n",
        "\n",
        "    def push(self, key):\n",
        "        heappush(self.heap, key)\n",
        "\n",
        "    def pop(self):\n",
        "        return heappop(self.heap)\n",
        "\n",
        "    def empty(self):\n",
        "        return not self.heap\n",
        "\n",
        "class Node:\n",
        "    def __init__(self, parent, mats, empty_tile_posi, costs, levels):\n",
        "        self.parent, self.mats = parent, mats\n",
        "        self.empty_tile_posi, self.costs, self.levels = empty_tile_posi, costs, levels\n",
        "\n",
        "    def __lt__(self, nxt):\n",
        "        return self.costs < nxt.costs\n",
        "\n",
        "def calculateCosts(mats, final):\n",
        "    return sum(1 for i in range(n) for j in range(n) if mats[i][j] and mats[i][j] != final[i][j])\n",
        "\n",
        "def newNodes(mats, empty_tile_posi, new_empty_tile_posi, levels, parent, final):\n",
        "    new_mats = copy.deepcopy(mats)\n",
        "    x1, y1, x2, y2 = empty_tile_posi[0], empty_tile_posi[1], new_empty_tile_posi[0], new_empty_tile_posi[1]\n",
        "    new_mats[x1][y1], new_mats[x2][y2] = new_mats[x2][y2], new_mats[x1][y1]\n",
        "    costs = calculateCosts(new_mats, final)\n",
        "    return Node(parent, new_mats, new_empty_tile_posi, costs, levels)\n",
        "\n",
        "def printMatrix(mats):\n",
        "    for row in mats:\n",
        "        print(\" \".join(map(str, row)))\n",
        "\n",
        "def isSafe(x, y):\n",
        "    return 0 <= x < n and 0 <= y < n\n",
        "\n",
        "def printPath(root):\n",
        "    if root:\n",
        "        printPath(root.parent)\n",
        "        printMatrix(root.mats)\n",
        "        print()\n",
        "\n",
        "def solve(initial, empty_tile_posi, final):\n",
        "    pq = PriorityQueue()\n",
        "    root = Node(None, initial, empty_tile_posi, calculateCosts(initial, final), 0)\n",
        "    pq.push(root)\n",
        "    while not pq.empty():\n",
        "        minimum = pq.pop()\n",
        "        if minimum.costs == 0:\n",
        "            printPath(minimum)\n",
        "            return\n",
        "        for i in range(n):\n",
        "            new_tile_posi = [minimum.empty_tile_posi[0] + rows[i], minimum.empty_tile_posi[1] + cols[i]]\n",
        "            if isSafe(*new_tile_posi):\n",
        "                child = newNodes(minimum.mats, minimum.empty_tile_posi, new_tile_posi, minimum.levels + 1, minimum, final)\n",
        "                pq.push(child)\n",
        "\n",
        "# Main Code\n",
        "\n",
        "initial = [[1, 2, 3], [5, 6, 0], [7, 8, 4]]\n",
        "final = [[1, 2, 3], [5, 8, 6], [0, 7, 4]]\n",
        "empty_tile_posi = [1, 2]\n",
        "solve(initial, empty_tile_posi, final)\n"
      ]
    },
    {
      "cell_type": "markdown",
      "source": [
        "2)Python program to solve 8-Queen problem."
      ],
      "metadata": {
        "id": "MvcHwwyRZRnU"
      }
    },
    {
      "cell_type": "code",
      "source": [
        "# Taking number of queens as input from user\n",
        "print (\"Enter the number of queens\")\n",
        "N = int(input())\n",
        "# here we create a chessboard\n",
        "# NxN matrix with all elements set to 0\n",
        "board = [[0]*N for _ in range(N)]\n",
        "def attack(i, j):\n",
        "    #checking vertically and horizontally\n",
        "    for k in range(0,N):\n",
        "        if board[i][k]==1 or board[k][j]==1:\n",
        "            return True\n",
        "    #checking diagonally\n",
        "    for k in range(0,N):\n",
        "        for l in range(0,N):\n",
        "            if (k+l==i+j) or (k-l==i-j):\n",
        "                if board[k][l]==1:\n",
        "                    return True\n",
        "    return False\n",
        "def N_queens(n):\n",
        "    if n==0:\n",
        "        return True\n",
        "    for i in range(0,N):\n",
        "        for j in range(0,N):\n",
        "            if (not(attack(i,j))) and (board[i][j]!=1):\n",
        "                board[i][j] = 1\n",
        "                if N_queens(n-1)==True:\n",
        "                    return True\n",
        "                board[i][j] = 0\n",
        "    return False\n",
        "N_queens(N)\n",
        "for i in board:\n",
        "    print (i)"
      ],
      "metadata": {
        "colab": {
          "base_uri": "https://localhost:8080/"
        },
        "id": "KSXRfLNhXLLH",
        "outputId": "8055e075-8c31-471f-c05b-7ba5ccf453bb"
      },
      "execution_count": null,
      "outputs": [
        {
          "output_type": "stream",
          "name": "stdout",
          "text": [
            "Enter the number of queens\n",
            "8\n",
            "[1, 0, 0, 0, 0, 0, 0, 0]\n",
            "[0, 0, 0, 0, 1, 0, 0, 0]\n",
            "[0, 0, 0, 0, 0, 0, 0, 1]\n",
            "[0, 0, 0, 0, 0, 1, 0, 0]\n",
            "[0, 0, 1, 0, 0, 0, 0, 0]\n",
            "[0, 0, 0, 0, 0, 0, 1, 0]\n",
            "[0, 1, 0, 0, 0, 0, 0, 0]\n",
            "[0, 0, 0, 1, 0, 0, 0, 0]\n"
          ]
        }
      ]
    },
    {
      "cell_type": "markdown",
      "source": [
        "3) Python program to implement BFS."
      ],
      "metadata": {
        "id": "QkicU90TZTpX"
      }
    },
    {
      "cell_type": "code",
      "source": [
        "# BFS algorithm in Python\n",
        "\n",
        "\n",
        "import collections\n",
        "\n",
        "# BFS algorithm\n",
        "def bfs(graph, root):\n",
        "\n",
        "    visited, queue = set(), collections.deque([root])\n",
        "    visited.add(root)\n",
        "\n",
        "    while queue:\n",
        "\n",
        "        # Dequeue a vertex from queue\n",
        "        vertex = queue.popleft()\n",
        "        print(str(vertex) + \" \", end=\"\")\n",
        "\n",
        "        # If not visited, mark it as visited, and\n",
        "        # enqueue it\n",
        "        for neighbour in graph[vertex]:\n",
        "            if neighbour not in visited:\n",
        "                visited.add(neighbour)\n",
        "                queue.append(neighbour)\n",
        "\n",
        "\n",
        "if __name__ == '__main__':\n",
        "    graph = {0: [1, 2], 1: [2], 2: [3], 3: [1, 2]}\n",
        "    print(\"Following is Breadth First Traversal: \")\n",
        "    bfs(graph, 0)\n"
      ],
      "metadata": {
        "colab": {
          "base_uri": "https://localhost:8080/"
        },
        "id": "s9ktlhx7X3dK",
        "outputId": "a56ab7e8-226b-4957-8b12-0dbf13688d1d"
      },
      "execution_count": null,
      "outputs": [
        {
          "output_type": "stream",
          "name": "stdout",
          "text": [
            "Following is Breadth First Traversal: \n",
            "0 1 2 3 "
          ]
        }
      ]
    },
    {
      "cell_type": "markdown",
      "source": [
        "4) Python program to implement DFS."
      ],
      "metadata": {
        "id": "vNBeJQnuZWqN"
      }
    },
    {
      "cell_type": "code",
      "source": [
        "# DFS algorithm in Python\n",
        "\n",
        "\n",
        "# DFS algorithm\n",
        "def dfs(graph, start, visited=None):\n",
        "    if visited is None:\n",
        "        visited = set()\n",
        "    visited.add(start)\n",
        "\n",
        "    print(start)\n",
        "\n",
        "    for next in graph[start] - visited:\n",
        "        dfs(graph, next, visited)\n",
        "    return visited\n",
        "\n",
        "\n",
        "graph = {'0': set(['1', '2']),\n",
        "         '1': set(['0', '3', '4']),\n",
        "         '2': set(['0']),\n",
        "         '3': set(['1']),\n",
        "         '4': set(['2', '3'])}\n",
        "\n",
        "dfs(graph, '0')"
      ],
      "metadata": {
        "colab": {
          "base_uri": "https://localhost:8080/"
        },
        "id": "dC7qIFJSYGhS",
        "outputId": "9a0b6fb2-4fe4-4545-c831-b7c97126da52"
      },
      "execution_count": null,
      "outputs": [
        {
          "output_type": "stream",
          "name": "stdout",
          "text": [
            "0\n",
            "1\n",
            "4\n",
            "2\n",
            "3\n",
            "3\n",
            "2\n"
          ]
        },
        {
          "output_type": "execute_result",
          "data": {
            "text/plain": [
              "{'0', '1', '2', '3', '4'}"
            ]
          },
          "metadata": {},
          "execution_count": 7
        }
      ]
    },
    {
      "cell_type": "markdown",
      "source": [
        "5) Python to implement Travelling Salesman Problem."
      ],
      "metadata": {
        "id": "Y1YgYVqPZZsl"
      }
    },
    {
      "cell_type": "code",
      "source": [
        "# Python3 program to implement traveling salesman\n",
        "# problem using naive approach.\n",
        "from sys import maxsize\n",
        "from itertools import permutations\n",
        "V = 4\n",
        "\n",
        "# implementation of traveling Salesman Problem\n",
        "def travellingSalesmanProblem(graph, s):\n",
        "\n",
        "\t# store all vertex apart from source vertex\n",
        "\tvertex = []\n",
        "\tfor i in range(V):\n",
        "\t\tif i != s:\n",
        "\t\t\tvertex.append(i)\n",
        "\n",
        "\t# store minimum weight Hamiltonian Cycle\n",
        "\tmin_path = maxsize\n",
        "\tnext_permutation=permutations(vertex)\n",
        "\tfor i in next_permutation:\n",
        "\n",
        "\t\t# store current Path weight(cost)\n",
        "\t\tcurrent_pathweight = 0\n",
        "\n",
        "\t\t# compute current path weight\n",
        "\t\tk = s\n",
        "\t\tfor j in i:\n",
        "\t\t\tcurrent_pathweight += graph[k][j]\n",
        "\t\t\tk = j\n",
        "\t\tcurrent_pathweight += graph[k][s]\n",
        "\n",
        "\t\t# update minimum\n",
        "\t\tmin_path = min(min_path, current_pathweight)\n",
        "\n",
        "\treturn min_path\n",
        "\n",
        "\n",
        "# Driver Code\n",
        "if __name__ == \"__main__\":\n",
        "\n",
        "\t# matrix representation of graph\n",
        "\tgraph = [[0, 10, 15, 20], [10, 0, 35, 25],\n",
        "\t\t\t[15, 35, 0, 30], [20, 25, 30, 0]]\n",
        "\ts = 0\n",
        "\tprint(travellingSalesmanProblem(graph, s))\n"
      ],
      "metadata": {
        "colab": {
          "base_uri": "https://localhost:8080/"
        },
        "id": "LkcwV8j6YhtQ",
        "outputId": "00d97fd7-f499-421e-80e6-de63b8331a9a"
      },
      "execution_count": null,
      "outputs": [
        {
          "output_type": "stream",
          "name": "stdout",
          "text": [
            "80\n"
          ]
        }
      ]
    },
    {
      "cell_type": "markdown",
      "source": [
        "6) Python program to implement Minimax Algorithm."
      ],
      "metadata": {
        "id": "SJ4AwVwcZdFP"
      }
    },
    {
      "cell_type": "code",
      "source": [
        "# A simple Python3 program to find\n",
        "# maximum score that\n",
        "# maximizing player can get\n",
        "import math\n",
        "\n",
        "def minimax (curDepth, nodeIndex,\n",
        "\t\t\tmaxTurn, scores,\n",
        "\t\t\ttargetDepth):\n",
        "\n",
        "\t# base case : targetDepth reached\n",
        "\tif (curDepth == targetDepth):\n",
        "\t\treturn scores[nodeIndex]\n",
        "\n",
        "\tif (maxTurn):\n",
        "\t\treturn max(minimax(curDepth + 1, nodeIndex * 2,\n",
        "\t\t\t\t\tFalse, scores, targetDepth),\n",
        "\t\t\t\tminimax(curDepth + 1, nodeIndex * 2 + 1,\n",
        "\t\t\t\t\tFalse, scores, targetDepth))\n",
        "\n",
        "\telse:\n",
        "\t\treturn min(minimax(curDepth + 1, nodeIndex * 2,\n",
        "\t\t\t\t\tTrue, scores, targetDepth),\n",
        "\t\t\t\tminimax(curDepth + 1, nodeIndex * 2 + 1,\n",
        "\t\t\t\t\tTrue, scores, targetDepth))\n",
        "\n",
        "# Driver code\n",
        "scores = [3, 5, 2, 9, 12, 5, 23, 23]\n",
        "\n",
        "treeDepth = math.log(len(scores), 2)\n",
        "\n",
        "print(\"The optimal value is : \", end = \"\")\n",
        "print(minimax(0, 0, True, scores, treeDepth))\n",
        "\n",
        "# This code is contributed\n",
        "# by rootshadow\n"
      ],
      "metadata": {
        "colab": {
          "base_uri": "https://localhost:8080/"
        },
        "id": "PKjCYLKeYydM",
        "outputId": "5adfd529-d1fe-46c2-b568-4e3193afa4c9"
      },
      "execution_count": null,
      "outputs": [
        {
          "output_type": "stream",
          "name": "stdout",
          "text": [
            "The optimal value is : 12\n"
          ]
        }
      ]
    },
    {
      "cell_type": "markdown",
      "source": [
        "7) To write a python program to implement Decision Tree."
      ],
      "metadata": {
        "id": "Yl88-NdXY9YL"
      }
    },
    {
      "cell_type": "code",
      "source": [
        "from sklearn.datasets import load_iris\n",
        "from sklearn.model_selection import train_test_split\n",
        "from sklearn.tree import DecisionTreeClassifier\n",
        "from sklearn import metrics\n",
        "\n",
        "# Load the Iris dataset\n",
        "iris = load_iris()\n",
        "X = iris.data\n",
        "y = iris.target\n",
        "\n",
        "# Split the dataset into training and testing sets\n",
        "X_train, X_test, y_train, y_test = train_test_split(X, y, test_size=0.2, random_state=42)\n",
        "\n",
        "# Create a Decision Tree Classifier\n",
        "clf = DecisionTreeClassifier()\n",
        "\n",
        "# Train the model on the training set\n",
        "clf.fit(X_train, y_train)\n",
        "\n",
        "# Make predictions on the testing set\n",
        "y_pred = clf.predict(X_test)\n",
        "\n",
        "# Evaluate the model\n",
        "accuracy = metrics.accuracy_score(y_test, y_pred)\n",
        "print(f\"Accuracy: {accuracy}\")\n",
        "\n",
        "# Visualize the decision tree (optional)\n",
        "from sklearn.tree import export_text\n",
        "tree_rules = export_text(clf, feature_names=iris.feature_names)\n",
        "print(\"Decision Tree Rules:\\n\", tree_rules)\n"
      ],
      "metadata": {
        "id": "W4rq10QkZDuc",
        "colab": {
          "base_uri": "https://localhost:8080/"
        },
        "outputId": "3d194ab2-45cb-422e-96b2-a340fe113a65"
      },
      "execution_count": null,
      "outputs": [
        {
          "output_type": "stream",
          "name": "stdout",
          "text": [
            "Accuracy: 1.0\n",
            "Decision Tree Rules:\n",
            " |--- petal width (cm) <= 0.80\n",
            "|   |--- class: 0\n",
            "|--- petal width (cm) >  0.80\n",
            "|   |--- petal length (cm) <= 4.75\n",
            "|   |   |--- petal width (cm) <= 1.65\n",
            "|   |   |   |--- class: 1\n",
            "|   |   |--- petal width (cm) >  1.65\n",
            "|   |   |   |--- class: 2\n",
            "|   |--- petal length (cm) >  4.75\n",
            "|   |   |--- petal width (cm) <= 1.75\n",
            "|   |   |   |--- petal length (cm) <= 4.95\n",
            "|   |   |   |   |--- class: 1\n",
            "|   |   |   |--- petal length (cm) >  4.95\n",
            "|   |   |   |   |--- petal width (cm) <= 1.55\n",
            "|   |   |   |   |   |--- class: 2\n",
            "|   |   |   |   |--- petal width (cm) >  1.55\n",
            "|   |   |   |   |   |--- sepal length (cm) <= 6.95\n",
            "|   |   |   |   |   |   |--- class: 1\n",
            "|   |   |   |   |   |--- sepal length (cm) >  6.95\n",
            "|   |   |   |   |   |   |--- class: 2\n",
            "|   |   |--- petal width (cm) >  1.75\n",
            "|   |   |   |--- petal length (cm) <= 4.85\n",
            "|   |   |   |   |--- sepal width (cm) <= 3.10\n",
            "|   |   |   |   |   |--- class: 2\n",
            "|   |   |   |   |--- sepal width (cm) >  3.10\n",
            "|   |   |   |   |   |--- class: 1\n",
            "|   |   |   |--- petal length (cm) >  4.85\n",
            "|   |   |   |   |--- class: 2\n",
            "\n"
          ]
        }
      ]
    },
    {
      "cell_type": "markdown",
      "source": [
        "8) feed forward in nn"
      ],
      "metadata": {
        "id": "sMSnbmj3wbBv"
      }
    },
    {
      "cell_type": "code",
      "source": [
        "import numpy as np\n",
        "\n",
        "def sigmoid(x):\n",
        "    return 1 / (1 + np.exp(-x))\n",
        "\n",
        "def sigmoid_derivative(x):\n",
        "    return x * (1 - x)\n",
        "\n",
        "# Predefined variables\n",
        "input_size = 2\n",
        "hidden_size = 4\n",
        "output_size = 1\n",
        "learning_rate = 0.1\n",
        "epochs = 10000\n",
        "\n",
        "# Input dataset\n",
        "X = np.array([[0, 0],\n",
        "              [0, 1],\n",
        "              [1, 0],\n",
        "              [1, 1]])\n",
        "\n",
        "# Output dataset\n",
        "y = np.array([[0],\n",
        "              [1],\n",
        "              [1],\n",
        "              [0]])\n",
        "\n",
        "# Initialize weights and biases randomly\n",
        "np.random.seed(42)\n",
        "weights_input_hidden = np.random.uniform(size=(input_size, hidden_size))\n",
        "biases_hidden = np.zeros((1, hidden_size))\n",
        "weights_hidden_output = np.random.uniform(size=(hidden_size, output_size))\n",
        "biases_output = np.zeros((1, output_size))\n",
        "\n",
        "# Training\n",
        "for epoch in range(epochs):\n",
        "    # Forward pass\n",
        "    hidden_layer_input = np.dot(X, weights_input_hidden) + biases_hidden\n",
        "    hidden_layer_output = sigmoid(hidden_layer_input)\n",
        "    output_layer_input = np.dot(hidden_layer_output, weights_hidden_output) + biases_output\n",
        "    predicted_output = sigmoid(output_layer_input)\n",
        "\n",
        "    # Backpropagation\n",
        "    error = y - predicted_output\n",
        "    output_delta = error * sigmoid_derivative(predicted_output)\n",
        "    error_hidden_layer = output_delta.dot(weights_hidden_output.T)\n",
        "    hidden_layer_delta = error_hidden_layer * sigmoid_derivative(hidden_layer_output)\n",
        "\n",
        "    # Update weights and biases\n",
        "    weights_hidden_output += hidden_layer_output.T.dot(output_delta) * learning_rate\n",
        "    biases_output += np.sum(output_delta, axis=0, keepdims=True) * learning_rate\n",
        "    weights_input_hidden += X.T.dot(hidden_layer_delta) * learning_rate\n",
        "    biases_hidden += np.sum(hidden_layer_delta, axis=0, keepdims=True) * learning_rate\n",
        "\n",
        "# Test the trained model\n",
        "test_data = np.array([[0, 0],\n",
        "                      [0, 1],\n",
        "                      [1, 0],\n",
        "                      [1, 1]])\n",
        "\n",
        "hidden_layer_input_test = np.dot(test_data, weights_input_hidden) + biases_hidden\n",
        "hidden_layer_output_test = sigmoid(hidden_layer_input_test)\n",
        "output_layer_input_test = np.dot(hidden_layer_output_test, weights_hidden_output) + biases_output\n",
        "predicted_output_test = sigmoid(output_layer_input_test)\n",
        "\n",
        "print(\"Predictions after training:\")\n",
        "print(predicted_output_test)\n"
      ],
      "metadata": {
        "colab": {
          "base_uri": "https://localhost:8080/"
        },
        "id": "WuA5N8mDzOnD",
        "outputId": "bb6787e7-f711-4d7f-856d-a9048c1aaccb"
      },
      "execution_count": null,
      "outputs": [
        {
          "output_type": "stream",
          "name": "stdout",
          "text": [
            "Predictions after training:\n",
            "[[0.05561616]\n",
            " [0.95121366]\n",
            " [0.95219406]\n",
            " [0.05040275]]\n"
          ]
        }
      ]
    }
  ]
}